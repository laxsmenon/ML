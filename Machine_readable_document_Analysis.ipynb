{
  "cells": [
    {
      "cell_type": "markdown",
      "id": "be8acdbd-4354-446f-bba8-44393afb7367",
      "metadata": {
        "id": "be8acdbd-4354-446f-bba8-44393afb7367"
      },
      "source": [
        "Analysis of Statistical Frequency of Characters and Words"
      ]
    },
    {
      "cell_type": "markdown",
      "id": "2671edd4-fa98-46f7-98b4-a1291b2f3df7",
      "metadata": {
        "id": "2671edd4-fa98-46f7-98b4-a1291b2f3df7"
      },
      "source": [
        "Features Computed:\n",
        "\n",
        "1. Average Token Length: The average length of the tokens in each document.\n",
        "2. Entropy: Measures the unpredictability of the token distribution using Shannon entropy.\n",
        "\n",
        "To check whether the  feature importance scores are consistent between K-fold cross-validation and a single train-test split, confirming the relative importance of average_token_length and entropy\n"
      ]
    },
    {
      "cell_type": "code",
      "execution_count": null,
      "id": "b68c6c47-cfac-491e-97d7-ac7958f5e1b8",
      "metadata": {
        "id": "b68c6c47-cfac-491e-97d7-ac7958f5e1b8",
        "outputId": "60f66ec5-d4d3-4b31-99d2-c07d87474df8"
      },
      "outputs": [
        {
          "name": "stdout",
          "output_type": "stream",
          "text": [
            "                file_name  average_token_length    entropy  labels\n",
            "0             file371.sql             10.923913   8.526285       1\n",
            "1             file1803.md              5.376609   7.732721       1\n",
            "2            CHANGELOG.md              5.220746   7.499278       1\n",
            "3              file121.py              7.088296   7.556815       1\n",
            "4               file3.Rmd              4.916359   8.456456       1\n",
            "..                    ...                   ...        ...     ...\n",
            "994             file81.md              4.642321   8.528687       0\n",
            "995           file155.pdf              3.416089  12.869539       0\n",
            "996            file45.3mf              3.061003  14.715014       0\n",
            "997  file95-checkpoint.md              6.179054   7.464660       0\n",
            "998  file47-checkpoint.md              5.511628   5.713658       0\n",
            "\n",
            "[999 rows x 4 columns]\n"
          ]
        }
      ],
      "source": [
        "#Libraies\n",
        "import pandas as pd\n",
        "import ast\n",
        "from math import log2\n",
        "\n",
        "\n",
        "#Loading the dataframe\n",
        "input_df = pd.read_csv('SMRD.csv', encoding='utf-8')\n",
        "\n",
        "\n",
        "\n",
        "# Convert string representation of tokens to a list of tokenized words\n",
        "input_df['tokens'] = input_df['tokens'].str.strip('[]').str.split(', ').apply(lambda x: [token.strip('\\'\"') for token in x])\n",
        "\n",
        "\n",
        "# Define functions to compute features\n",
        "\n",
        "def average_token_length(tokens):\n",
        "    return sum(len(token) for token in tokens) / len(tokens)\n",
        "\n",
        "\n",
        "def compute_entropy(tokens):\n",
        "    freq_dist = pd.Series(tokens).value_counts(normalize=True)\n",
        "    return -sum(p * log2(p) for p in freq_dist)\n",
        "\n",
        "# Create new DataFrame to store features\n",
        "features_df = pd.DataFrame()\n",
        "features_df['file_name'] = input_df['file_name']\n",
        "features_df['average_token_length'] = input_df['tokens'].apply(average_token_length)\n",
        "\n",
        "\n",
        "features_df['entropy'] = input_df['tokens'].apply(compute_entropy)\n",
        "\n",
        "\n",
        "features_df['labels'] = input_df['label']\n",
        "\n",
        "# Save the features DataFrame to a new CSV file\n",
        "features_df.to_csv('features2.csv', index=False)\n",
        "\n",
        "print(features_df)\n",
        "\n"
      ]
    },
    {
      "cell_type": "code",
      "execution_count": null,
      "id": "9e16feac-f811-4fc5-9659-43b94dcc2f78",
      "metadata": {
        "id": "9e16feac-f811-4fc5-9659-43b94dcc2f78"
      },
      "outputs": [],
      "source": [
        "import pandas as pd\n",
        "\n",
        "# Load features from CSV\n",
        "features_df = pd.read_csv('features2.csv')\n"
      ]
    },
    {
      "cell_type": "markdown",
      "id": "797ae805-0787-4558-b3e3-e51fad231615",
      "metadata": {
        "id": "797ae805-0787-4558-b3e3-e51fad231615"
      },
      "source": [
        "## Approach 1  - K fold cross validation"
      ]
    },
    {
      "cell_type": "code",
      "execution_count": null,
      "id": "732017a7-e623-4474-aea3-c8bfce82ecd3",
      "metadata": {
        "id": "732017a7-e623-4474-aea3-c8bfce82ecd3",
        "outputId": "83282ed9-9b8c-4550-d914-bae6e60eb9f7"
      },
      "outputs": [
        {
          "name": "stdout",
          "output_type": "stream",
          "text": [
            "RandomForest 5-Fold Cross-Validation Scores: [0.96       0.96       0.955      0.95       0.93467337]\n",
            "RandomForest Average Score: 0.9519346733668342\n",
            "SVM 5-Fold Cross-Validation Scores: [0.955      0.94       0.94       0.945      0.92964824]\n",
            "SVM Average Score: 0.941929648241206\n"
          ]
        }
      ],
      "source": [
        "from sklearn.model_selection import cross_val_score\n",
        "from sklearn.svm import SVC\n",
        "import pandas as pd\n",
        "from sklearn.model_selection import cross_val_score\n",
        "from sklearn.ensemble import RandomForestClassifier\n",
        "from sklearn.svm import SVC\n",
        "\n",
        "\n",
        "# Prepare your features and labels\n",
        "X = features_df.drop(columns=['file_name', 'labels'])\n",
        "y = features_df['labels']\n",
        "\n",
        "# Initialize RandomForest and SVM classifiers\n",
        "rf_clf = RandomForestClassifier(random_state=42)\n",
        "svm_clf = SVC()\n",
        "\n",
        "# 5-Fold Cross-validation for RandomForest\n",
        "rf_scores = cross_val_score(rf_clf, X, y, cv=5, scoring='accuracy')\n",
        "print(f\"RandomForest 5-Fold Cross-Validation Scores: {rf_scores}\")\n",
        "print(f\"RandomForest Average Score: {rf_scores.mean()}\")\n",
        "\n",
        "# 5-Fold Cross-validation for SVM\n",
        "svm_scores = cross_val_score(svm_clf, X, y, cv=5, scoring='accuracy')\n",
        "print(f\"SVM 5-Fold Cross-Validation Scores: {svm_scores}\")\n",
        "print(f\"SVM Average Score: {svm_scores.mean()}\")\n"
      ]
    },
    {
      "cell_type": "markdown",
      "id": "e69a801d-5710-4ff0-96ba-41a9b296b662",
      "metadata": {
        "id": "e69a801d-5710-4ff0-96ba-41a9b296b662"
      },
      "source": [
        "## Average feature importance across folds"
      ]
    },
    {
      "cell_type": "code",
      "execution_count": null,
      "id": "9673aae4-3453-4ac4-a559-14d3b8bbbd31",
      "metadata": {
        "id": "9673aae4-3453-4ac4-a559-14d3b8bbbd31",
        "outputId": "1219d628-cdfc-4943-b88b-047964c590ae"
      },
      "outputs": [
        {
          "name": "stdout",
          "output_type": "stream",
          "text": [
            "Average Feature Importances Across Folds:\n",
            "                Feature  Average Importance\n",
            "0  average_token_length            0.575648\n",
            "1               entropy            0.424352\n"
          ]
        }
      ],
      "source": [
        "from sklearn.model_selection import KFold\n",
        "import numpy as np\n",
        "\n",
        "kf = KFold(n_splits=5, random_state=42, shuffle=True)\n",
        "feature_importances = []\n",
        "\n",
        "for train_index, test_index in kf.split(X):\n",
        "    X_train, X_test = X.iloc[train_index], X.iloc[test_index]\n",
        "    y_train, y_test = y.iloc[train_index], y.iloc[test_index]\n",
        "\n",
        "    rf_clf.fit(X_train, y_train)\n",
        "    feature_importances.append(rf_clf.feature_importances_)\n",
        "\n",
        "# Average feature importances\n",
        "avg_importance = np.mean(feature_importances, axis=0)\n",
        "\n",
        "# Create a DataFrame for the averaged importances\n",
        "avg_importance_df = pd.DataFrame({\n",
        "    'Feature': X.columns,\n",
        "    'Average Importance': avg_importance\n",
        "})\n",
        "\n",
        "# Sort the DataFrame by the importances\n",
        "avg_importance_df = avg_importance_df.sort_values(by='Average Importance', ascending=False)\n",
        "\n",
        "print(\"Average Feature Importances Across Folds:\")\n",
        "print(avg_importance_df)\n"
      ]
    },
    {
      "cell_type": "markdown",
      "id": "21088248-dec1-4b15-a942-411f1d526f77",
      "metadata": {
        "id": "21088248-dec1-4b15-a942-411f1d526f77"
      },
      "source": [
        "The average token length have high feature importance"
      ]
    },
    {
      "cell_type": "markdown",
      "id": "623417df-97e9-44b8-8145-58b264ed589d",
      "metadata": {
        "id": "623417df-97e9-44b8-8145-58b264ed589d"
      },
      "source": [
        "### Approach 2- Train test split"
      ]
    },
    {
      "cell_type": "code",
      "execution_count": null,
      "id": "ea14ee2b-5a02-43cb-b66d-e930c9aad2ce",
      "metadata": {
        "id": "ea14ee2b-5a02-43cb-b66d-e930c9aad2ce"
      },
      "outputs": [],
      "source": [
        "# Split the data into features and target variable\n",
        "X = features_df.drop(columns=['file_name', 'labels'])\n",
        "y = features_df['labels']\n"
      ]
    },
    {
      "cell_type": "code",
      "execution_count": null,
      "id": "a960c7d2-3429-4f3a-897a-02e4b7943ee9",
      "metadata": {
        "id": "a960c7d2-3429-4f3a-897a-02e4b7943ee9"
      },
      "outputs": [],
      "source": [
        "from sklearn.model_selection import train_test_split\n",
        "\n",
        "X_train, X_test, y_train, y_test = train_test_split(X, y, test_size=0.2, random_state=42)\n"
      ]
    },
    {
      "cell_type": "code",
      "execution_count": null,
      "id": "7dfea131-44cf-40c2-b206-ea664f1c8756",
      "metadata": {
        "id": "7dfea131-44cf-40c2-b206-ea664f1c8756"
      },
      "outputs": [],
      "source": [
        "from sklearn.preprocessing import StandardScaler\n",
        "\n",
        "scaler = StandardScaler()\n",
        "X_train = scaler.fit_transform(X_train)\n",
        "X_test = scaler.transform(X_test)\n"
      ]
    },
    {
      "cell_type": "markdown",
      "id": "a5b3eff6-77e8-4970-8f73-918fc76d2f8a",
      "metadata": {
        "id": "a5b3eff6-77e8-4970-8f73-918fc76d2f8a"
      },
      "source": [
        "## Support vector machine"
      ]
    },
    {
      "cell_type": "code",
      "execution_count": null,
      "id": "3a799b3a-53ca-475c-a775-485a901106f8",
      "metadata": {
        "id": "3a799b3a-53ca-475c-a775-485a901106f8",
        "outputId": "7e12ae1c-8650-43ed-df53-fa4c14f887f8"
      },
      "outputs": [
        {
          "name": "stdout",
          "output_type": "stream",
          "text": [
            "SVM Accuracy: 0.96\n"
          ]
        }
      ],
      "source": [
        "from sklearn.svm import SVC\n",
        "from sklearn.metrics import accuracy_score\n",
        "\n",
        "svm_model = SVC(kernel='linear', C=1)\n",
        "svm_model.fit(X_train, y_train)\n",
        "\n",
        "# Predictions and Accuracy for SVM\n",
        "svm_predictions = svm_model.predict(X_test)\n",
        "svm_accuracy = accuracy_score(y_test, svm_predictions)\n",
        "print(f\"SVM Accuracy: {svm_accuracy:.2f}\")\n"
      ]
    },
    {
      "cell_type": "markdown",
      "id": "39046171-fbf9-4ae6-b37a-01fecf11054b",
      "metadata": {
        "id": "39046171-fbf9-4ae6-b37a-01fecf11054b"
      },
      "source": [
        "## Random forest classifier"
      ]
    },
    {
      "cell_type": "code",
      "execution_count": null,
      "id": "30c3d327-bcbe-451c-b690-fcb2394429c3",
      "metadata": {
        "id": "30c3d327-bcbe-451c-b690-fcb2394429c3"
      },
      "outputs": [],
      "source": [
        "import pandas as pd\n",
        "from sklearn.model_selection import train_test_split\n",
        "from sklearn.ensemble import RandomForestClassifier\n",
        "from sklearn.metrics import accuracy_score, classification_report\n",
        "\n",
        "# Load the features dataset\n",
        "features_df = pd.read_csv('features2.csv')\n",
        "\n"
      ]
    },
    {
      "cell_type": "code",
      "execution_count": null,
      "id": "e8767f05-ab78-4f92-81df-39842b2c7244",
      "metadata": {
        "id": "e8767f05-ab78-4f92-81df-39842b2c7244",
        "outputId": "4292affa-db64-4cef-81e5-56df76a12838"
      },
      "outputs": [
        {
          "data": {
            "text/html": [
              "<style>#sk-container-id-1 {color: black;}#sk-container-id-1 pre{padding: 0;}#sk-container-id-1 div.sk-toggleable {background-color: white;}#sk-container-id-1 label.sk-toggleable__label {cursor: pointer;display: block;width: 100%;margin-bottom: 0;padding: 0.3em;box-sizing: border-box;text-align: center;}#sk-container-id-1 label.sk-toggleable__label-arrow:before {content: \"▸\";float: left;margin-right: 0.25em;color: #696969;}#sk-container-id-1 label.sk-toggleable__label-arrow:hover:before {color: black;}#sk-container-id-1 div.sk-estimator:hover label.sk-toggleable__label-arrow:before {color: black;}#sk-container-id-1 div.sk-toggleable__content {max-height: 0;max-width: 0;overflow: hidden;text-align: left;background-color: #f0f8ff;}#sk-container-id-1 div.sk-toggleable__content pre {margin: 0.2em;color: black;border-radius: 0.25em;background-color: #f0f8ff;}#sk-container-id-1 input.sk-toggleable__control:checked~div.sk-toggleable__content {max-height: 200px;max-width: 100%;overflow: auto;}#sk-container-id-1 input.sk-toggleable__control:checked~label.sk-toggleable__label-arrow:before {content: \"▾\";}#sk-container-id-1 div.sk-estimator input.sk-toggleable__control:checked~label.sk-toggleable__label {background-color: #d4ebff;}#sk-container-id-1 div.sk-label input.sk-toggleable__control:checked~label.sk-toggleable__label {background-color: #d4ebff;}#sk-container-id-1 input.sk-hidden--visually {border: 0;clip: rect(1px 1px 1px 1px);clip: rect(1px, 1px, 1px, 1px);height: 1px;margin: -1px;overflow: hidden;padding: 0;position: absolute;width: 1px;}#sk-container-id-1 div.sk-estimator {font-family: monospace;background-color: #f0f8ff;border: 1px dotted black;border-radius: 0.25em;box-sizing: border-box;margin-bottom: 0.5em;}#sk-container-id-1 div.sk-estimator:hover {background-color: #d4ebff;}#sk-container-id-1 div.sk-parallel-item::after {content: \"\";width: 100%;border-bottom: 1px solid gray;flex-grow: 1;}#sk-container-id-1 div.sk-label:hover label.sk-toggleable__label {background-color: #d4ebff;}#sk-container-id-1 div.sk-serial::before {content: \"\";position: absolute;border-left: 1px solid gray;box-sizing: border-box;top: 0;bottom: 0;left: 50%;z-index: 0;}#sk-container-id-1 div.sk-serial {display: flex;flex-direction: column;align-items: center;background-color: white;padding-right: 0.2em;padding-left: 0.2em;position: relative;}#sk-container-id-1 div.sk-item {position: relative;z-index: 1;}#sk-container-id-1 div.sk-parallel {display: flex;align-items: stretch;justify-content: center;background-color: white;position: relative;}#sk-container-id-1 div.sk-item::before, #sk-container-id-1 div.sk-parallel-item::before {content: \"\";position: absolute;border-left: 1px solid gray;box-sizing: border-box;top: 0;bottom: 0;left: 50%;z-index: -1;}#sk-container-id-1 div.sk-parallel-item {display: flex;flex-direction: column;z-index: 1;position: relative;background-color: white;}#sk-container-id-1 div.sk-parallel-item:first-child::after {align-self: flex-end;width: 50%;}#sk-container-id-1 div.sk-parallel-item:last-child::after {align-self: flex-start;width: 50%;}#sk-container-id-1 div.sk-parallel-item:only-child::after {width: 0;}#sk-container-id-1 div.sk-dashed-wrapped {border: 1px dashed gray;margin: 0 0.4em 0.5em 0.4em;box-sizing: border-box;padding-bottom: 0.4em;background-color: white;}#sk-container-id-1 div.sk-label label {font-family: monospace;font-weight: bold;display: inline-block;line-height: 1.2em;}#sk-container-id-1 div.sk-label-container {text-align: center;}#sk-container-id-1 div.sk-container {/* jupyter's `normalize.less` sets `[hidden] { display: none; }` but bootstrap.min.css set `[hidden] { display: none !important; }` so we also need the `!important` here to be able to override the default hidden behavior on the sphinx rendered scikit-learn.org. See: https://github.com/scikit-learn/scikit-learn/issues/21755 */display: inline-block !important;position: relative;}#sk-container-id-1 div.sk-text-repr-fallback {display: none;}</style><div id=\"sk-container-id-1\" class=\"sk-top-container\"><div class=\"sk-text-repr-fallback\"><pre>RandomForestClassifier(max_depth=10, min_samples_split=10, oob_score=True,\n",
              "                       random_state=42)</pre><b>In a Jupyter environment, please rerun this cell to show the HTML representation or trust the notebook. <br />On GitHub, the HTML representation is unable to render, please try loading this page with nbviewer.org.</b></div><div class=\"sk-container\" hidden><div class=\"sk-item\"><div class=\"sk-estimator sk-toggleable\"><input class=\"sk-toggleable__control sk-hidden--visually\" id=\"sk-estimator-id-1\" type=\"checkbox\" checked><label for=\"sk-estimator-id-1\" class=\"sk-toggleable__label sk-toggleable__label-arrow\">RandomForestClassifier</label><div class=\"sk-toggleable__content\"><pre>RandomForestClassifier(max_depth=10, min_samples_split=10, oob_score=True,\n",
              "                       random_state=42)</pre></div></div></div></div></div>"
            ],
            "text/plain": [
              "RandomForestClassifier(max_depth=10, min_samples_split=10, oob_score=True,\n",
              "                       random_state=42)"
            ]
          },
          "execution_count": 14,
          "metadata": {},
          "output_type": "execute_result"
        }
      ],
      "source": [
        "# Initialize the Random Forest Classifier\n",
        "rf_model = RandomForestClassifier(n_estimators=100, random_state=42, oob_score=True, max_depth=10, min_samples_split=10)\n",
        "\n",
        "# Train the model\n",
        "rf_model.fit(X_train, y_train)\n"
      ]
    },
    {
      "cell_type": "code",
      "execution_count": null,
      "id": "5aa09d74-49a6-4e35-83a2-3ab978816fa3",
      "metadata": {
        "id": "5aa09d74-49a6-4e35-83a2-3ab978816fa3",
        "outputId": "cb77e311-e503-446d-bc84-838db0371e0b"
      },
      "outputs": [
        {
          "name": "stdout",
          "output_type": "stream",
          "text": [
            "Random Forest Accuracy: 0.97\n",
            "              precision    recall  f1-score   support\n",
            "\n",
            "           0       0.99      0.96      0.97       101\n",
            "           1       0.96      0.99      0.98        99\n",
            "\n",
            "    accuracy                           0.97       200\n",
            "   macro avg       0.98      0.98      0.97       200\n",
            "weighted avg       0.98      0.97      0.97       200\n",
            "\n",
            "OOB Score: 0.95\n"
          ]
        }
      ],
      "source": [
        "# Predictions on the test set\n",
        "rf_predictions = rf_model.predict(X_test)\n",
        "\n",
        "# Accuracy\n",
        "rf_accuracy = accuracy_score(y_test, rf_predictions)\n",
        "print(f\"Random Forest Accuracy: {rf_accuracy:.2f}\")\n",
        "\n",
        "# Classification report for a detailed performance analysis\n",
        "print(classification_report(y_test, rf_predictions))\n",
        "\n",
        "# Out-of-Bag Score for potential overfitting insights\n",
        "print(f\"OOB Score: {rf_model.oob_score_:.2f}\")\n"
      ]
    },
    {
      "cell_type": "markdown",
      "id": "21f8d226-f5fd-4290-bd62-1cc99d41fc66",
      "metadata": {
        "id": "21f8d226-f5fd-4290-bd62-1cc99d41fc66"
      },
      "source": [
        "### Feature importance"
      ]
    },
    {
      "cell_type": "code",
      "execution_count": null,
      "id": "93061594-d84a-43c6-aacb-f8d08062e1b0",
      "metadata": {
        "id": "93061594-d84a-43c6-aacb-f8d08062e1b0",
        "outputId": "b264d5ba-0c37-4011-ad1d-f80046fecc9d"
      },
      "outputs": [
        {
          "name": "stdout",
          "output_type": "stream",
          "text": [
            "average_token_length: 0.5777\n",
            "entropy: 0.4223\n"
          ]
        }
      ],
      "source": [
        "importances = rf_model.feature_importances_\n",
        "feature_names = X.columns\n",
        "feature_importance_mapping = dict(zip(feature_names, importances))\n",
        "sorted_features = sorted(feature_importance_mapping.items(), key=lambda x: x[1], reverse=True)\n",
        "for feature, importance in sorted_features:\n",
        "    print(f\"{feature}: {importance:.4f}\")\n"
      ]
    },
    {
      "cell_type": "markdown",
      "id": "cd0eff1c-4eca-450d-8d7c-aa2dc1d3e91a",
      "metadata": {
        "id": "cd0eff1c-4eca-450d-8d7c-aa2dc1d3e91a"
      },
      "source": [
        "The feature importances obtained from both the train-test split and K-fold cross-validation methods are quite similar:\n",
        "\n",
        "For the train-test split method:\n",
        "\n",
        "average_token_length: 0.5777\n",
        "entropy: 0.4223\n",
        "\n",
        "For the K-fold cross-validation method:\n",
        "\n",
        "average_token_length: 0.575648\n",
        "entropy: 0.424352\n",
        "This similarity suggests a couple of important things:\n",
        "\n",
        "Stability: The feature importances are stable across different partitions of the data. This lends more confidence to the generalizability of your RandomForest model.\n",
        "\n",
        "Consistency: The similar importance metrics imply that these features consistently contribute to the model's decision-making process, regardless of the data subset they are trained on.\n",
        "\n",
        "In practical terms, it would seem that both average_token_length and entropy are significant features for the model. The slight differences in importances are likely due to random fluctuations or sampling error, and they are minor enough that they don't warrant concern.\n",
        "\n"
      ]
    },
    {
      "cell_type": "markdown",
      "id": "473593c3-2254-44d6-b214-7d34e7c7d997",
      "metadata": {
        "id": "473593c3-2254-44d6-b214-7d34e7c7d997"
      },
      "source": [
        "## Distribution of features"
      ]
    },
    {
      "cell_type": "code",
      "execution_count": null,
      "id": "b827c0d4-e849-4159-a980-afcafd161223",
      "metadata": {
        "id": "b827c0d4-e849-4159-a980-afcafd161223",
        "outputId": "1966ef70-1669-4439-ed65-a7932c94952b"
      },
      "outputs": [
        {
          "data": {
            "image/png": "[encoded data removed]",
            "text/plain": [
              "<Figure size 800x500 with 1 Axes>"
            ]
          },
          "metadata": {},
          "output_type": "display_data"
        },
        {
          "data": {
            "image/png": "[encoded data removed]",
            "text/plain": [
              "<Figure size 800x500 with 1 Axes>"
            ]
          },
          "metadata": {},
          "output_type": "display_data"
        }
      ],
      "source": [
        "import matplotlib.pyplot as plt\n",
        "import seaborn as sns\n",
        "\n",
        "features = ['average_token_length',   'entropy']\n",
        "\n",
        "for feature in features:\n",
        "    plt.figure(figsize=(8, 5))\n",
        "    sns.histplot(features_df[feature], bins=50, kde=True)\n",
        "    plt.title(f'Histogram for {feature}')\n",
        "    plt.show()\n"
      ]
    },
    {
      "cell_type": "markdown",
      "id": "f025ef75-b5ca-444a-8020-f547b1f31ace",
      "metadata": {
        "id": "f025ef75-b5ca-444a-8020-f547b1f31ace"
      },
      "source": [
        "### Correlation heatmap"
      ]
    },
    {
      "cell_type": "code",
      "execution_count": null,
      "id": "4bf7c2d6-ae5c-4408-b5bb-cb88d6a8b0ca",
      "metadata": {
        "id": "4bf7c2d6-ae5c-4408-b5bb-cb88d6a8b0ca",
        "outputId": "64a7eafb-1e56-407d-800a-d716c638247e"
      },
      "outputs": [
        {
          "data": {
            "image/png": "[encoded data removed]",
            "text/plain": [
              "<Figure size 1000x800 with 2 Axes>"
            ]
          },
          "metadata": {},
          "output_type": "display_data"
        }
      ],
      "source": [
        "correlation_matrix = features_df[features].corr()\n",
        "\n",
        "plt.figure(figsize=(10, 8))\n",
        "sns.heatmap(correlation_matrix, annot=True, cmap='coolwarm', linewidths=0.5)\n",
        "plt.title('Correlation Matrix Heatmap')\n",
        "plt.show()\n"
      ]
    },
    {
      "cell_type": "markdown",
      "id": "90b7c7ec-f187-4c09-88ba-a4bb8245aecf",
      "metadata": {
        "id": "90b7c7ec-f187-4c09-88ba-a4bb8245aecf"
      },
      "source": [
        "### Statistics"
      ]
    },
    {
      "cell_type": "code",
      "execution_count": null,
      "id": "e38c0ba8-d7c1-4a40-886d-264040e7f4b0",
      "metadata": {
        "id": "e38c0ba8-d7c1-4a40-886d-264040e7f4b0",
        "outputId": "55016749-3ca1-4697-d0dd-0533f9eb6a3f"
      },
      "outputs": [
        {
          "name": "stdout",
          "output_type": "stream",
          "text": [
            "                          Mean    Median      Mode  Variance   Std Dev  \\\n",
            "average_token_length  5.315445  4.886398  4.620192  5.994029  2.448271   \n",
            "entropy               9.004880  8.019002  4.424731  8.859503  2.976492   \n",
            "labels                0.522523  1.000000  1.000000  0.249743  0.499743   \n",
            "\n",
            "                          Range        Q1         Q3       IQR  Skewness  \\\n",
            "average_token_length  24.169830  3.799574   6.053323  2.253749  4.744801   \n",
            "entropy               17.011614  7.222224  10.816926  3.594702  0.876432   \n",
            "labels                 1.000000  0.000000   1.000000  1.000000 -0.090317   \n",
            "\n",
            "                       Kurtosis  \n",
            "average_token_length  33.990958  \n",
            "entropy                0.050124  \n",
            "labels                -1.995842  \n"
          ]
        }
      ],
      "source": [
        "import pandas as pd\n",
        "\n",
        "# Read your data\n",
        "df = pd.read_csv('features2.csv')\n",
        "# Drop the file_name column\n",
        "df = df.drop(columns=['file_name'])\n",
        "# Central Tendency\n",
        "mean_values = df.mean()\n",
        "median_values = df.median()\n",
        "mode_values = df.mode().iloc[0]  # `mode` returns a dataframe, so we take the first row\n",
        "\n",
        "# Spread\n",
        "variance_values = df.var()\n",
        "std_dev_values = df.std()\n",
        "range_values = df.max() - df.min()\n",
        "Q1 = df.quantile(0.25)\n",
        "Q3 = df.quantile(0.75)\n",
        "IQR_values = Q3 - Q1\n",
        "\n",
        "# Shape\n",
        "skewness_values = df.skew()\n",
        "kurtosis_values = df.kurtosis()\n",
        "\n",
        "# Combine the statistics into a DataFrame\n",
        "stats_df = pd.DataFrame({\n",
        "    'Mean': mean_values,\n",
        "    'Median': median_values,\n",
        "    'Mode': mode_values,\n",
        "    'Variance': variance_values,\n",
        "    'Std Dev': std_dev_values,\n",
        "    'Range': range_values,\n",
        "    'Q1': Q1,\n",
        "    'Q3': Q3,\n",
        "    'IQR': IQR_values,\n",
        "    'Skewness': skewness_values,\n",
        "    'Kurtosis': kurtosis_values\n",
        "})\n",
        "\n",
        "print(stats_df)\n"
      ]
    },
    {
      "cell_type": "markdown",
      "id": "aecf14bc-2f8f-48e1-b9c2-f746a42f7e10",
      "metadata": {
        "id": "aecf14bc-2f8f-48e1-b9c2-f746a42f7e10"
      },
      "source": [
        "The statistics suggest that the average_token_length and entropy features are differently distributed. The average_token_length has a mean of about 5.32 but is positively skewed, indicating some tokens are significantly longer and pull the mean upwards. The high variance and standard deviation reinforce this. On the other hand, the entropy feature has a mean of about 9 and is less skewed, with a more uniform distribution as suggested by its lower standard deviation."
      ]
    },
    {
      "cell_type": "markdown",
      "id": "863e1457-6462-44dd-814b-8e4a331211f9",
      "metadata": {
        "id": "863e1457-6462-44dd-814b-8e4a331211f9"
      },
      "source": [
        "### Conclusion"
      ]
    },
    {
      "cell_type": "markdown",
      "id": "0db6a20d-76fb-41a4-a8f9-aac3efbf78a0",
      "metadata": {
        "id": "0db6a20d-76fb-41a4-a8f9-aac3efbf78a0"
      },
      "source": [
        "\n",
        "The feature importance scores are consistent between K-fold cross-validation and a single train-test split, confirming the relative importance of average_token_length and entropy. Given the slight variation in feature importance across different K-folds, you can be more confident that these features are genuinely influential and not artifacts of a particular data split.\n",
        "\n",
        "In summary, the model's strong performance across both validation methods and the consistent feature importance scores add confidence to its robustness and its ability to generalize well to new data.\n",
        "\n",
        "In terms of feature importance, both average_token_length and entropy seem to be relevant, but average_token_length appears to be slightly more influential in the Random Forest model's decision-making process, based on its higher feature importance score. This suggests that the length of tokens may play a more critical role in classification than entropy, although both are significant features.\n",
        "\n",
        "\n",
        "\n",
        "\n"
      ]
    }
  ],
  "metadata": {
    "environment": {
      "kernel": "ds-studies-environment",
      "name": "tf2-gpu.2-7.m87",
      "type": "gcloud",
      "uri": "gcr.io/deeplearning-platform-release/tf2-gpu.2-7:m87"
    },
    "kernelspec": {
      "display_name": "ds-studies-environment",
      "language": "python",
      "name": "ds-studies-environment"
    },
    "language_info": {
      "codemirror_mode": {
        "name": "ipython",
        "version": 3
      },
      "file_extension": ".py",
      "mimetype": "text/x-python",
      "name": "python",
      "nbconvert_exporter": "python",
      "pygments_lexer": "ipython3",
      "version": "3.8.16"
    },
    "colab": {
      "provenance": []
    }
  },
  "nbformat": 4,
  "nbformat_minor": 5
}