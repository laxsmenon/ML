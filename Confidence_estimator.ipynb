{
  "nbformat": 4,
  "nbformat_minor": 0,
  "metadata": {
    "colab": {
      "provenance": []
    },
    "kernelspec": {
      "name": "python3",
      "display_name": "Python 3"
    },
    "language_info": {
      "name": "python"
    }
  },
  "cells": [
    {
      "cell_type": "markdown",
      "source": [
        "\n",
        "\n",
        "The purpose of this study-generate a confidence calibration model over the iris dataset. This model is used to predict the reliability of a classifier's predicted probabilities. It is achieved by comparing the predicted probabilities to the actual outcomes in a set of labeled data. The confidence calibration model will then use this information to adjust the predicted probabilities, so they better reflect the true probabilities of the classifier's outputs.The model also has an  output apart from the main output, which is calculated using a custom Dirichlet loss layer, defined in the custom DirichletLoss class. This layer takes three inputs: the predicted probabilities, the ground truth, and the sample weights, and calculates the loss and two metrics (confidence loss and confidence score). The confidence score is the mean of the reciprocal of the variance of a DirichletMultinomial distribution.After training, the code makes predictions and creates a pandas dataframe with inputs, true labels, predictions, and confidence values. It also prints the mean confidence value for the training and validation data.\n",
        "\n",
        "\n",
        "\n",
        "\n"
      ],
      "metadata": {
        "id": "Yy8G8gGVNh5L"
      }
    },
    {
      "cell_type": "code",
      "execution_count": null,
      "metadata": {
        "colab": {
          "base_uri": "https://localhost:8080/"
        },
        "id": "OQe0ZLgwVTWc",
        "outputId": "4692f533-c706-4c13-fc10-be89e1d571c3"
      },
      "outputs": [
        {
          "output_type": "stream",
          "name": "stderr",
          "text": [
            "WARNING:tensorflow:From /usr/local/lib/python3.8/dist-packages/tensorflow/python/compat/v2_compat.py:107: disable_resource_variables (from tensorflow.python.ops.variable_scope) is deprecated and will be removed in a future version.\n",
            "Instructions for updating:\n",
            "non-resource variables are not supported in the long term\n"
          ]
        }
      ],
      "source": [
        "#Importing libraries\n",
        "import pandas as pd\n",
        "import numpy as np\n",
        "import os\n",
        "\n",
        "# Plotting libraries\n",
        "import matplotlib.pyplot as plt\n",
        "\n",
        "\n",
        "# SKLearn libraries\n",
        "from sklearn.preprocessing import LabelEncoder\n",
        "from sklearn.model_selection import train_test_split\n",
        "\n",
        "# Tensorflow libraries\n",
        "\n",
        "import tensorflow.compat.v1 as tf\n",
        "tf.disable_v2_behavior()\n",
        "from tensorflow import keras"
      ]
    },
    {
      "cell_type": "markdown",
      "source": [
        "##Importing necessary libraries"
      ],
      "metadata": {
        "id": "PoIbZd_WM3da"
      }
    },
    {
      "cell_type": "code",
      "source": [
        "from matplotlib import pyplot as plt\n",
        "\n",
        "import seaborn as sns\n",
        "\n",
        "from sklearn.model_selection import train_test_split\n",
        "from sklearn.neighbors import KNeighborsClassifier\n",
        "from sklearn.metrics import confusion_matrix\n",
        "\n",
        "from joblib import dump, load"
      ],
      "metadata": {
        "id": "uuOfa4K5VgSG"
      },
      "execution_count": null,
      "outputs": []
    },
    {
      "cell_type": "markdown",
      "source": [
        "##Loading Iris Dataset and Splitting it into training and testing\n"
      ],
      "metadata": {
        "id": "Uu1e4ZH6Z4aU"
      }
    },
    {
      "cell_type": "code",
      "source": [
        "from sklearn.datasets import load_iris\n",
        "# Load iris dataset\n",
        "\n",
        "iris = load_iris()\n",
        "X = iris.data\n",
        "y = iris.target\n",
        "cols = ['sepal_length', ' sepal_width', 'petal_length', 'petal_width', 'species']\n",
        "\n",
        "# One hot encoding\n",
        "y = tf.keras.utils.to_categorical(y)\n",
        "\n",
        "# Split the data into train and test sets\n",
        "X_train, X_test, y_train, y_test = train_test_split(X, y, test_size=0.3,random_state=40)\n",
        "\n",
        "print(iris.data)\n",
        "print(iris.target)"
      ],
      "metadata": {
        "colab": {
          "base_uri": "https://localhost:8080/"
        },
        "id": "DvRg25dxVlwj",
        "outputId": "87765f0c-b831-4890-e1b3-9420694894a8"
      },
      "execution_count": null,
      "outputs": [
        {
          "output_type": "stream",
          "name": "stdout",
          "text": [
            "[[5.1 3.5 1.4 0.2]\n",
            " [4.9 3.  1.4 0.2]\n",
            " [4.7 3.2 1.3 0.2]\n",
            " [4.6 3.1 1.5 0.2]\n",
            " [5.  3.6 1.4 0.2]\n",
            " [5.4 3.9 1.7 0.4]\n",
            " [4.6 3.4 1.4 0.3]\n",
            " [5.  3.4 1.5 0.2]\n",
            " [4.4 2.9 1.4 0.2]\n",
            " [4.9 3.1 1.5 0.1]\n",
            " [5.4 3.7 1.5 0.2]\n",
            " [4.8 3.4 1.6 0.2]\n",
            " [4.8 3.  1.4 0.1]\n",
            " [4.3 3.  1.1 0.1]\n",
            " [5.8 4.  1.2 0.2]\n",
            " [5.7 4.4 1.5 0.4]\n",
            " [5.4 3.9 1.3 0.4]\n",
            " [5.1 3.5 1.4 0.3]\n",
            " [5.7 3.8 1.7 0.3]\n",
            " [5.1 3.8 1.5 0.3]\n",
            " [5.4 3.4 1.7 0.2]\n",
            " [5.1 3.7 1.5 0.4]\n",
            " [4.6 3.6 1.  0.2]\n",
            " [5.1 3.3 1.7 0.5]\n",
            " [4.8 3.4 1.9 0.2]\n",
            " [5.  3.  1.6 0.2]\n",
            " [5.  3.4 1.6 0.4]\n",
            " [5.2 3.5 1.5 0.2]\n",
            " [5.2 3.4 1.4 0.2]\n",
            " [4.7 3.2 1.6 0.2]\n",
            " [4.8 3.1 1.6 0.2]\n",
            " [5.4 3.4 1.5 0.4]\n",
            " [5.2 4.1 1.5 0.1]\n",
            " [5.5 4.2 1.4 0.2]\n",
            " [4.9 3.1 1.5 0.2]\n",
            " [5.  3.2 1.2 0.2]\n",
            " [5.5 3.5 1.3 0.2]\n",
            " [4.9 3.6 1.4 0.1]\n",
            " [4.4 3.  1.3 0.2]\n",
            " [5.1 3.4 1.5 0.2]\n",
            " [5.  3.5 1.3 0.3]\n",
            " [4.5 2.3 1.3 0.3]\n",
            " [4.4 3.2 1.3 0.2]\n",
            " [5.  3.5 1.6 0.6]\n",
            " [5.1 3.8 1.9 0.4]\n",
            " [4.8 3.  1.4 0.3]\n",
            " [5.1 3.8 1.6 0.2]\n",
            " [4.6 3.2 1.4 0.2]\n",
            " [5.3 3.7 1.5 0.2]\n",
            " [5.  3.3 1.4 0.2]\n",
            " [7.  3.2 4.7 1.4]\n",
            " [6.4 3.2 4.5 1.5]\n",
            " [6.9 3.1 4.9 1.5]\n",
            " [5.5 2.3 4.  1.3]\n",
            " [6.5 2.8 4.6 1.5]\n",
            " [5.7 2.8 4.5 1.3]\n",
            " [6.3 3.3 4.7 1.6]\n",
            " [4.9 2.4 3.3 1. ]\n",
            " [6.6 2.9 4.6 1.3]\n",
            " [5.2 2.7 3.9 1.4]\n",
            " [5.  2.  3.5 1. ]\n",
            " [5.9 3.  4.2 1.5]\n",
            " [6.  2.2 4.  1. ]\n",
            " [6.1 2.9 4.7 1.4]\n",
            " [5.6 2.9 3.6 1.3]\n",
            " [6.7 3.1 4.4 1.4]\n",
            " [5.6 3.  4.5 1.5]\n",
            " [5.8 2.7 4.1 1. ]\n",
            " [6.2 2.2 4.5 1.5]\n",
            " [5.6 2.5 3.9 1.1]\n",
            " [5.9 3.2 4.8 1.8]\n",
            " [6.1 2.8 4.  1.3]\n",
            " [6.3 2.5 4.9 1.5]\n",
            " [6.1 2.8 4.7 1.2]\n",
            " [6.4 2.9 4.3 1.3]\n",
            " [6.6 3.  4.4 1.4]\n",
            " [6.8 2.8 4.8 1.4]\n",
            " [6.7 3.  5.  1.7]\n",
            " [6.  2.9 4.5 1.5]\n",
            " [5.7 2.6 3.5 1. ]\n",
            " [5.5 2.4 3.8 1.1]\n",
            " [5.5 2.4 3.7 1. ]\n",
            " [5.8 2.7 3.9 1.2]\n",
            " [6.  2.7 5.1 1.6]\n",
            " [5.4 3.  4.5 1.5]\n",
            " [6.  3.4 4.5 1.6]\n",
            " [6.7 3.1 4.7 1.5]\n",
            " [6.3 2.3 4.4 1.3]\n",
            " [5.6 3.  4.1 1.3]\n",
            " [5.5 2.5 4.  1.3]\n",
            " [5.5 2.6 4.4 1.2]\n",
            " [6.1 3.  4.6 1.4]\n",
            " [5.8 2.6 4.  1.2]\n",
            " [5.  2.3 3.3 1. ]\n",
            " [5.6 2.7 4.2 1.3]\n",
            " [5.7 3.  4.2 1.2]\n",
            " [5.7 2.9 4.2 1.3]\n",
            " [6.2 2.9 4.3 1.3]\n",
            " [5.1 2.5 3.  1.1]\n",
            " [5.7 2.8 4.1 1.3]\n",
            " [6.3 3.3 6.  2.5]\n",
            " [5.8 2.7 5.1 1.9]\n",
            " [7.1 3.  5.9 2.1]\n",
            " [6.3 2.9 5.6 1.8]\n",
            " [6.5 3.  5.8 2.2]\n",
            " [7.6 3.  6.6 2.1]\n",
            " [4.9 2.5 4.5 1.7]\n",
            " [7.3 2.9 6.3 1.8]\n",
            " [6.7 2.5 5.8 1.8]\n",
            " [7.2 3.6 6.1 2.5]\n",
            " [6.5 3.2 5.1 2. ]\n",
            " [6.4 2.7 5.3 1.9]\n",
            " [6.8 3.  5.5 2.1]\n",
            " [5.7 2.5 5.  2. ]\n",
            " [5.8 2.8 5.1 2.4]\n",
            " [6.4 3.2 5.3 2.3]\n",
            " [6.5 3.  5.5 1.8]\n",
            " [7.7 3.8 6.7 2.2]\n",
            " [7.7 2.6 6.9 2.3]\n",
            " [6.  2.2 5.  1.5]\n",
            " [6.9 3.2 5.7 2.3]\n",
            " [5.6 2.8 4.9 2. ]\n",
            " [7.7 2.8 6.7 2. ]\n",
            " [6.3 2.7 4.9 1.8]\n",
            " [6.7 3.3 5.7 2.1]\n",
            " [7.2 3.2 6.  1.8]\n",
            " [6.2 2.8 4.8 1.8]\n",
            " [6.1 3.  4.9 1.8]\n",
            " [6.4 2.8 5.6 2.1]\n",
            " [7.2 3.  5.8 1.6]\n",
            " [7.4 2.8 6.1 1.9]\n",
            " [7.9 3.8 6.4 2. ]\n",
            " [6.4 2.8 5.6 2.2]\n",
            " [6.3 2.8 5.1 1.5]\n",
            " [6.1 2.6 5.6 1.4]\n",
            " [7.7 3.  6.1 2.3]\n",
            " [6.3 3.4 5.6 2.4]\n",
            " [6.4 3.1 5.5 1.8]\n",
            " [6.  3.  4.8 1.8]\n",
            " [6.9 3.1 5.4 2.1]\n",
            " [6.7 3.1 5.6 2.4]\n",
            " [6.9 3.1 5.1 2.3]\n",
            " [5.8 2.7 5.1 1.9]\n",
            " [6.8 3.2 5.9 2.3]\n",
            " [6.7 3.3 5.7 2.5]\n",
            " [6.7 3.  5.2 2.3]\n",
            " [6.3 2.5 5.  1.9]\n",
            " [6.5 3.  5.2 2. ]\n",
            " [6.2 3.4 5.4 2.3]\n",
            " [5.9 3.  5.1 1.8]]\n",
            "[0 0 0 0 0 0 0 0 0 0 0 0 0 0 0 0 0 0 0 0 0 0 0 0 0 0 0 0 0 0 0 0 0 0 0 0 0\n",
            " 0 0 0 0 0 0 0 0 0 0 0 0 0 1 1 1 1 1 1 1 1 1 1 1 1 1 1 1 1 1 1 1 1 1 1 1 1\n",
            " 1 1 1 1 1 1 1 1 1 1 1 1 1 1 1 1 1 1 1 1 1 1 1 1 1 1 2 2 2 2 2 2 2 2 2 2 2\n",
            " 2 2 2 2 2 2 2 2 2 2 2 2 2 2 2 2 2 2 2 2 2 2 2 2 2 2 2 2 2 2 2 2 2 2 2 2 2\n",
            " 2 2]\n"
          ]
        }
      ]
    },
    {
      "cell_type": "markdown",
      "source": [
        "This code uses the scikit-learn library to load the Iris dataset, which is\n",
        "a commonly used dataset for machine learning classification problems. The Iris dataset consists of 150 samples of iris flowers, with four features (sepal length, sepal width, petal length, and petal width) and one target variable (the species of the iris flower).\n",
        "\n",
        "The code assigns the feature data to the variable \"X\" and the target data to the variable \"y\". Then, the code uses the 'to_categorical' function from the TensorFlow library to perform one-hot encoding on the target variable, which converts the target variable from a numerical format to a binary format, where each category is represented by a binary vector with a 1 in the position corresponding to the category and 0's everywhere else. This is often useful in machine learning problems when the target variable is categorical.\n",
        "\n",
        "Finally, the code splits the data into training and testing sets using the 'train_test_split' function from scikit-learn library. The function takes in the feature and target data, along with the test size (30% in this case) and a random state (40 in this case) as inputs. This splits the data into 70% for training and 30% for testing."
      ],
      "metadata": {
        "id": "RhfsKtekNgBb"
      }
    },
    {
      "cell_type": "markdown",
      "source": [
        "##Model architecture\n"
      ],
      "metadata": {
        "id": "BJcWDjXRlm1R"
      }
    },
    {
      "cell_type": "code",
      "source": [
        "#Functional API model\n",
        "# Step 1- Importing global variables\n",
        "from tensorflow.keras import layers\n",
        "from keras import backend as K\n",
        "from keras.layers import Dense, Input, Lambda\n",
        "from keras.models import load_model, Model\n",
        "from keras.layers.core import Lambda\n",
        "import numpy as np\n",
        "\n",
        " #Step 2: Input layer\n",
        "input = keras.layers.Input(shape=X_train.shape[1:])\n",
        "# Step 3: Hidden layers\n",
        "h = keras.layers.Dense(1000, activation='relu')(input)\n",
        "##Creating the second layer\n",
        "h = keras.layers.Dense(500, activation='relu')(h)\n",
        "#Layer after the intermediary feature layer\n",
        "topmost_feature_layer = keras.layers.Dense(300, activation='relu')(h)\n",
        "#Dropout layer\n",
        "h = keras.layers.Dropout(0.2)(topmost_feature_layer)\n",
        "###This code block defines the hidden layers in the model. There are two dense layers with 1000 and 500 units respectively,\n",
        "##followed by a dropout layer with a rate of 0.2.\n",
        "## The relu activation function is used for all three dense layers.\n",
        "\n",
        "#Step 3- Main output layer\n",
        "main_output_dense_layer = keras.layers.Dense(3, activation='softmax', name=\"main_output\")\n",
        "main_output = main_output_dense_layer(h)\n",
        "\n",
        "# Main output layer without dropout\n",
        "\n",
        "main_output_without_dropout = main_output_dense_layer(topmost_feature_layer)\n",
        "\n",
        "#Step 4: Dirichlet Loss Layer\n",
        "#Defining custom Dirichlet loss layer\n",
        "class DirichletLoss(tf.keras.layers.Layer):\n",
        "    def __init__(self, **kwargs):\n",
        "        super(DirichletLoss, self).__init__(**kwargs)\n",
        "\n",
        "#The custom layer takes three inputs: the predicted values predictions, the ground truth values ground_truth, and the sample weights sample_weight\n",
        "    def call(self, concentrations, predictions, ground_truth, sample_weight=None):\n",
        "        p = K.stop_gradient(tf.maximum(predictions, 1e-8))\n",
        "        p = p / tf.reduce_sum(p, axis=1, keepdims=True)\n",
        "        prior = tf.distributions.DirichletMultinomial(1.0, concentrations)\n",
        "        self.add_loss(-tf.reduce_mean(prior.log_prob(p) + prior.log_prob(ground_truth)))\n",
        "        self.add_metric(-prior.log_prob(p) - prior.log_prob(ground_truth), aggregation='mean',name='conf_loss')\n",
        "\n",
        "#Step 5: Generating confidence score and adding it as a metric to the model\n",
        "        #Confidence score, defined as the mean of the reciprocal of the variance of the DirichletMultinomial distribution\n",
        "        confidence = tf.reduce_mean(tf.math.log(1 + tf.math.reciprocal(prior.variance())), axis=1)\n",
        "        self.add_metric(confidence, name='confidence_metrics', aggregation='mean')\n",
        "        return confidence\n",
        "\n",
        "#Feature stopped gradient\n",
        "ref_input = keras.layers.Input(shape=y_train.shape[1:])\n",
        "feature_stopped_gradient = tf.keras.layers.Lambda(lambda x: K.stop_gradient(x))(topmost_feature_layer)\n",
        "h_confidence = tf.keras.layers.Dense(3, activation='relu')(feature_stopped_gradient)\n",
        "#Concentrations output\n",
        "concentrations_output = tf.keras.layers.Dense(3, activation='exponential')(h_confidence)\n",
        "#The confidence is calculated from the Dirichlet loss and returned by the custom layer.\n",
        "confidences = DirichletLoss(name=\"concentrations_output\")(concentrations_output, main_output_without_dropout, ref_input)\n",
        "\n",
        "# Step 6: Defining model\n",
        "model = keras.Model(inputs=[input, ref_input], outputs=[main_output, confidences], name=\"iris\")\n",
        "#Step 7:Compiling the model.\n",
        "model.compile(optimizer=\"Adam\",\n",
        "              loss={'main_output': 'categorical_crossentropy'},\n",
        "              metrics={'main_output': 'accuracy'})"
      ],
      "metadata": {
        "colab": {
          "base_uri": "https://localhost:8080/"
        },
        "id": "E1BrbckpVqK4",
        "outputId": "278f95bd-103e-47ee-d725-87565092eb79"
      },
      "execution_count": null,
      "outputs": [
        {
          "output_type": "stream",
          "name": "stderr",
          "text": [
            "WARNING:tensorflow:From /usr/local/lib/python3.8/dist-packages/tensorflow/python/autograph/impl/api.py:459: DirichletMultinomial.__init__ (from tensorflow.python.ops.distributions.dirichlet_multinomial) is deprecated and will be removed after 2019-01-01.\n",
            "Instructions for updating:\n",
            "The TensorFlow Distributions library has moved to TensorFlow Probability (https://github.com/tensorflow/probability). You should update all references to use `tfp.distributions` instead of `tf.distributions`.\n",
            "WARNING:tensorflow:From /usr/local/lib/python3.8/dist-packages/tensorflow/python/ops/distributions/dirichlet_multinomial.py:219: Distribution.__init__ (from tensorflow.python.ops.distributions.distribution) is deprecated and will be removed after 2019-01-01.\n",
            "Instructions for updating:\n",
            "The TensorFlow Distributions library has moved to TensorFlow Probability (https://github.com/tensorflow/probability). You should update all references to use `tfp.distributions` instead of `tf.distributions`.\n",
            "WARNING:tensorflow:Output concentrations_output missing from loss dictionary. We assume this was done on purpose. The fit and evaluate APIs will not be expecting any data to be passed to concentrations_output.\n"
          ]
        }
      ]
    },
    {
      "cell_type": "markdown",
      "source": [
        "\n",
        "Here, Keras (with TensorFlow as the backend) **functional API** is used to build a neural network model. The model consists of multiple dense layers, dropout layer, custom loss layer, and input layers. The code uses various concepts such as forward and backward pass, gradient descent, activation functions, and regularization techniques. More information on Keras Functional API model can be found on https://keras.io/guides/functional_api/\n",
        "\n",
        "A neural layer can be represented mathematically as a linear transformation of the input data followed by a non-linear activation function:\n",
        "\n",
        "**y = f(Wx + b)**\n",
        "\n",
        "Where:\n",
        "\n",
        "W is the weight matrix,\n",
        "x is the input data,\n",
        "b is the bias vector,\n",
        "f is the activation function.\n",
        "\n",
        "**Input layer:** The input layer specifies the shape of the input data. The shape of the input data is given by the X_train data.\n",
        "\n",
        "**Dense layer**:  The activation function used here is the Rectified Linear Unit (ReLU) function.The model has several dense (fully connected) layers with the ReLU activation function, with the first two layers having 1000 and 500 neurons, respectively, and the final intermediary feature layer having 300 neurons.\n",
        "\n",
        "**Dropout layer**: The dropout layer is used to prevent overfitting. The dropout layer randomly sets a specified fraction of the inputs to zero during training.\n",
        "\n",
        "**Main output layer**: Main_output is the output tensor with shape (number of samples, 3) and activation function is Softmax.This layer outputs the predicted class probabilities for each of the 3 classes.\n",
        "\n",
        "**Main output layer without dropout**: The same dense layer for main output is used, but applied to the topmost feature layer (before dropout) to get the main output without dropout.\n",
        "\n",
        "##Custom Dirichlet Loss Layer\n",
        "The custom Dirichlet loss layer is defined using the class DirichletLoss derived from tf.keras.layers.Layer.DirichletLoss calculates the Dirichlet loss, which is a measure of the difference between the predicted class probabilities and the ground truth labels. The loss is calculated as the negative log probability of the predictions and ground truth under a Dirichlet distribution.\n",
        "\n",
        "The dirichlet distribution can be defined as:\n",
        "$p(x|α) = \\frac{\\prod_{i=1}^k x_i^{\\alpha_i-1}}{\\Gamma(\\sum\\alpha)}$ for $0 < x_i < 1$ and $\\sum_{i=1}^k x_i = 1$\n",
        "\n",
        "where α is a vector of positive real numbers representing the concentration parameters, k is the number of dimensions, x is a vector of probabilities, Γ is the gamma function, and ^(-1) represents the reciprocal.\n",
        "\n",
        "\n",
        "1. The custom Dirichlet loss layer is defined by subclassing the tf.keras. layers.Layer class and overriding the call method. The custom layer takes three inputs: the predicted values, the ground truth values, and the sample weights.\n",
        "2. The custom layer first computes the probability distribution p from the predicted values by ensuring that no value is less than a small positive number 1e-8, normalizing the values and computing their softmax, the custom layer creates a DirichletMultinomial distribution with a fixed concentration value of 1.0 and the  **concentrations** passed in as input.\n",
        "\n",
        "3. The custom layer adds the negative mean of the log probabilities of the predicted and ground truth distributions as the loss. The custom layer also adds the confidence score, defined as the mean of the reciprocal of the variance of the DirichletMultinomial distribution, as a metric.Mathematically, the Dirichlet loss can be represented as:\n",
        "$Loss(p, q) = KL(p || q) = \\sum_{i=1}^k (p_i \\log\\frac{p_i}{q_i} + (1-p_i) \\log\\frac{1-p_i}{1-q_i})$\n",
        "\n",
        "where, p is the true probability distribution and q is the predicted probability distribution. The KL divergence, also known as the Kullback-Leibler divergence, measures the difference between two probability distributions.\n",
        "\n",
        "##Confidence score calculation\n",
        "\n",
        "The confidence score is calculated using the feature stopped gradient from the intermediary feature layer and a dense layer with 3 units and a ReLU activation. The output of the dense layer is transformed using the exponential activation to get the concentrations, which is used as the input to the custom Dirichlet loss layer. The custom layer calculates the confidence score from the Dirichlet loss and returns it.\n",
        "\n",
        "The **confidence score** is given by:\n",
        "\n",
        "**confidence = mean(log(1 + (1 / variance)), over all samples**\n",
        "\n",
        "where variance is the variance of the DirichletMultinomial distribution.\n",
        "\n",
        "##Model compilation\n",
        "\n",
        "Finally, the entire model is constructed using the Model class, where the inputs are input and ref_input, and the outputs are main_output and confidence. The model is compiled using the Adam optimizer and the categorical cross-entropy loss function. The accuracy metric is also calculated for the main_output.\n",
        "\n",
        "\n",
        "\n",
        "\n",
        "\n",
        "\n",
        "\n",
        "\n",
        "\n",
        "\n",
        "\n",
        "\n",
        "\n",
        "\n",
        "\n",
        "\n",
        "\n",
        "\n",
        "\n",
        "\n",
        "        "
      ],
      "metadata": {
        "id": "_RLH0g0DxKR3"
      }
    },
    {
      "cell_type": "code",
      "source": [
        "#Plotting model\n",
        "tf.keras.utils.plot_model(model)"
      ],
      "metadata": {
        "colab": {
          "base_uri": "https://localhost:8080/",
          "height": 758
        },
        "id": "acBCGRyr-KdY",
        "outputId": "28f1741c-81cb-4ce9-8d8e-df2444504136"
      },
      "execution_count": null,
      "outputs": [
        {
          "output_type": "execute_result",
          "data": {
            "image/png": "[encoded data removed]",
            "text/plain": [
              "<IPython.core.display.Image object>"
            ]
          },
          "metadata": {},
          "execution_count": 5
        }
      ]
    },
    {
      "cell_type": "markdown",
      "source": [
        "##Model training"
      ],
      "metadata": {
        "id": "oPpzFheKlzjq"
      }
    },
    {
      "cell_type": "code",
      "source": [
        "#Step8:Model training\n",
        "\n",
        "history = model.fit([X_train, y_train], y_train, epochs=30, validation_data=([X_test, y_test], y_test), verbose=1)"
      ],
      "metadata": {
        "colab": {
          "base_uri": "https://localhost:8080/"
        },
        "id": "yag4-tBqVzqn",
        "outputId": "6cb40d5f-831d-4c6e-afad-ce3b1ce61be4"
      },
      "execution_count": null,
      "outputs": [
        {
          "output_type": "stream",
          "name": "stdout",
          "text": [
            "Train on 105 samples, validate on 45 samples\n",
            "Epoch 1/30\n",
            " 96/105 [==========================>...] - ETA: 0s - loss: 3.1746 - main_output_loss: 1.0341 - main_output_acc: 0.4167 - conf_loss: 2.1405 - confidence_metrics: 1.7104"
          ]
        },
        {
          "output_type": "stream",
          "name": "stderr",
          "text": [
            "/usr/local/lib/python3.8/dist-packages/keras/engine/training_v1.py:2045: UserWarning: `Model.state_updates` will be removed in a future version. This property should not be used in TensorFlow 2.0, as `updates` are applied automatically.\n",
            "  updates = self.state_updates\n"
          ]
        },
        {
          "output_type": "stream",
          "name": "stdout",
          "text": [
            "\b\b\b\b\b\b\b\b\b\b\b\b\b\b\b\b\b\b\b\b\b\b\b\b\b\b\b\b\b\b\b\b\b\b\b\b\b\b\b\b\b\b\b\b\b\b\b\b\b\b\b\b\b\b\b\b\b\b\b\b\b\b\b\b\b\b\b\b\b\b\b\b\b\b\b\b\b\b\b\b\b\b\b\b\b\b\b\b\b\b\b\b\b\b\b\b\b\b\b\b\b\b\b\b\b\b\b\b\b\b\b\b\b\b\b\b\b\b\b\b\b\b\b\b\b\b\b\b\b\b\b\b\b\b\b\b\b\b\b\b\b\b\b\b\b\b\b\b\b\b\b\b\b\b\b\b\b\b\b\b\b\b\b\b\b\b\b\r105/105 [==============================] - 1s 12ms/sample - loss: 3.1434 - main_output_loss: 0.9525 - main_output_acc: 0.4667 - conf_loss: 2.1373 - confidence_metrics: 1.7108 - val_loss: 3.0928 - val_main_output_loss: 0.9305 - val_main_output_acc: 0.6667 - val_conf_loss: 2.1482 - val_confidence_metrics: 1.7308\n",
            "Epoch 2/30\n",
            "105/105 [==============================] - 0s 2ms/sample - loss: 2.9224 - main_output_loss: 0.7415 - main_output_acc: 0.6667 - conf_loss: 2.1177 - confidence_metrics: 1.7240 - val_loss: 2.5410 - val_main_output_loss: 0.5179 - val_main_output_acc: 0.6889 - val_conf_loss: 2.0122 - val_confidence_metrics: 1.7158\n",
            "Epoch 3/30\n",
            "105/105 [==============================] - 0s 2ms/sample - loss: 2.5397 - main_output_loss: 0.5410 - main_output_acc: 0.6667 - conf_loss: 1.9709 - confidence_metrics: 1.7163 - val_loss: 2.2585 - val_main_output_loss: 0.4133 - val_main_output_acc: 0.9778 - val_conf_loss: 1.8639 - val_confidence_metrics: 1.7244\n",
            "Epoch 4/30\n",
            "105/105 [==============================] - 0s 1ms/sample - loss: 2.1886 - main_output_loss: 0.3817 - main_output_acc: 0.8476 - conf_loss: 1.7914 - confidence_metrics: 1.7380 - val_loss: 1.8296 - val_main_output_loss: 0.3118 - val_main_output_acc: 0.9556 - val_conf_loss: 1.5059 - val_confidence_metrics: 1.8082\n",
            "Epoch 5/30\n",
            "105/105 [==============================] - 0s 1ms/sample - loss: 1.7826 - main_output_loss: 0.3368 - main_output_acc: 0.8857 - conf_loss: 1.4470 - confidence_metrics: 1.8528 - val_loss: 1.5040 - val_main_output_loss: 0.2704 - val_main_output_acc: 1.0000 - val_conf_loss: 1.2378 - val_confidence_metrics: 2.0185\n",
            "Epoch 6/30\n",
            "105/105 [==============================] - 0s 2ms/sample - loss: 1.5167 - main_output_loss: 0.2883 - main_output_acc: 0.8762 - conf_loss: 1.2289 - confidence_metrics: 2.1084 - val_loss: 1.4036 - val_main_output_loss: 0.3238 - val_main_output_acc: 0.8000 - val_conf_loss: 1.1207 - val_confidence_metrics: 2.3857\n",
            "Epoch 7/30\n",
            "105/105 [==============================] - 0s 2ms/sample - loss: 1.4004 - main_output_loss: 0.2690 - main_output_acc: 0.8571 - conf_loss: 1.1185 - confidence_metrics: 2.5021 - val_loss: 1.3634 - val_main_output_loss: 0.2865 - val_main_output_acc: 0.8000 - val_conf_loss: 1.0383 - val_confidence_metrics: 2.7957\n",
            "Epoch 8/30\n",
            "105/105 [==============================] - 0s 3ms/sample - loss: 1.3466 - main_output_loss: 0.2570 - main_output_acc: 0.8476 - conf_loss: 1.0697 - confidence_metrics: 2.8338 - val_loss: 1.3191 - val_main_output_loss: 0.2699 - val_main_output_acc: 0.8222 - val_conf_loss: 1.0579 - val_confidence_metrics: 3.1017\n",
            "Epoch 9/30\n",
            "105/105 [==============================] - 0s 2ms/sample - loss: 1.3282 - main_output_loss: 0.2305 - main_output_acc: 0.8857 - conf_loss: 1.0795 - confidence_metrics: 3.1327 - val_loss: 1.1671 - val_main_output_loss: 0.1642 - val_main_output_acc: 0.9333 - val_conf_loss: 1.0042 - val_confidence_metrics: 3.4248\n",
            "Epoch 10/30\n",
            "105/105 [==============================] - 0s 997us/sample - loss: 1.1972 - main_output_loss: 0.1468 - main_output_acc: 0.9333 - conf_loss: 1.0334 - confidence_metrics: 3.3806 - val_loss: 1.1500 - val_main_output_loss: 0.1197 - val_main_output_acc: 0.9556 - val_conf_loss: 1.0164 - val_confidence_metrics: 3.6031\n",
            "Epoch 11/30\n",
            "105/105 [==============================] - 0s 1ms/sample - loss: 1.2114 - main_output_loss: 0.1735 - main_output_acc: 0.9524 - conf_loss: 1.0521 - confidence_metrics: 3.5710 - val_loss: 1.1012 - val_main_output_loss: 0.1163 - val_main_output_acc: 0.9333 - val_conf_loss: 0.9740 - val_confidence_metrics: 3.7899\n",
            "Epoch 12/30\n",
            "105/105 [==============================] - 0s 992us/sample - loss: 1.2098 - main_output_loss: 0.1876 - main_output_acc: 0.9143 - conf_loss: 0.9836 - confidence_metrics: 3.6612 - val_loss: 1.1579 - val_main_output_loss: 0.1506 - val_main_output_acc: 0.9111 - val_conf_loss: 1.0096 - val_confidence_metrics: 3.6975\n",
            "Epoch 13/30\n",
            "105/105 [==============================] - 0s 1ms/sample - loss: 1.2103 - main_output_loss: 0.1400 - main_output_acc: 0.9333 - conf_loss: 1.0460 - confidence_metrics: 3.5903 - val_loss: 1.0838 - val_main_output_loss: 0.0791 - val_main_output_acc: 0.9556 - val_conf_loss: 0.9788 - val_confidence_metrics: 3.6620\n",
            "Epoch 14/30\n",
            "105/105 [==============================] - 0s 2ms/sample - loss: 1.0831 - main_output_loss: 0.1169 - main_output_acc: 0.9714 - conf_loss: 0.9968 - confidence_metrics: 3.5902 - val_loss: 1.0682 - val_main_output_loss: 0.1712 - val_main_output_acc: 0.9111 - val_conf_loss: 0.9029 - val_confidence_metrics: 3.7194\n",
            "Epoch 15/30\n",
            "105/105 [==============================] - 0s 2ms/sample - loss: 1.0677 - main_output_loss: 0.1273 - main_output_acc: 0.9143 - conf_loss: 0.9243 - confidence_metrics: 3.6298 - val_loss: 1.0933 - val_main_output_loss: 0.1386 - val_main_output_acc: 0.9111 - val_conf_loss: 0.9577 - val_confidence_metrics: 3.6916\n",
            "Epoch 16/30\n",
            "105/105 [==============================] - 0s 2ms/sample - loss: 1.1176 - main_output_loss: 0.1561 - main_output_acc: 0.9429 - conf_loss: 0.9877 - confidence_metrics: 3.6129 - val_loss: 1.0134 - val_main_output_loss: 0.1177 - val_main_output_acc: 0.9556 - val_conf_loss: 0.9195 - val_confidence_metrics: 3.7297\n",
            "Epoch 17/30\n",
            "105/105 [==============================] - 0s 2ms/sample - loss: 1.0197 - main_output_loss: 0.1005 - main_output_acc: 0.9619 - conf_loss: 0.9015 - confidence_metrics: 3.6956 - val_loss: 0.9840 - val_main_output_loss: 0.1933 - val_main_output_acc: 0.9111 - val_conf_loss: 0.8330 - val_confidence_metrics: 3.8948\n",
            "Epoch 18/30\n",
            "105/105 [==============================] - 0s 2ms/sample - loss: 0.9949 - main_output_loss: 0.1142 - main_output_acc: 0.9429 - conf_loss: 0.8669 - confidence_metrics: 3.8297 - val_loss: 1.0172 - val_main_output_loss: 0.1444 - val_main_output_acc: 0.9333 - val_conf_loss: 0.8899 - val_confidence_metrics: 3.9951\n",
            "Epoch 19/30\n",
            "105/105 [==============================] - 0s 2ms/sample - loss: 0.9929 - main_output_loss: 0.1083 - main_output_acc: 0.9714 - conf_loss: 0.8961 - confidence_metrics: 3.9338 - val_loss: 0.9047 - val_main_output_loss: 0.0650 - val_main_output_acc: 1.0000 - val_conf_loss: 0.8348 - val_confidence_metrics: 4.1915\n",
            "Epoch 20/30\n",
            "105/105 [==============================] - 0s 1ms/sample - loss: 0.9788 - main_output_loss: 0.1380 - main_output_acc: 0.9238 - conf_loss: 0.8308 - confidence_metrics: 4.1260 - val_loss: 0.9032 - val_main_output_loss: 0.0809 - val_main_output_acc: 0.9778 - val_conf_loss: 0.8308 - val_confidence_metrics: 4.2685\n",
            "Epoch 21/30\n",
            "105/105 [==============================] - 0s 1ms/sample - loss: 0.9700 - main_output_loss: 0.0938 - main_output_acc: 0.9524 - conf_loss: 0.8608 - confidence_metrics: 4.1266 - val_loss: 1.0673 - val_main_output_loss: 0.1550 - val_main_output_acc: 0.8889 - val_conf_loss: 0.8602 - val_confidence_metrics: 4.2511\n",
            "Epoch 22/30\n",
            "105/105 [==============================] - 0s 1ms/sample - loss: 0.9521 - main_output_loss: 0.0921 - main_output_acc: 0.9714 - conf_loss: 0.8424 - confidence_metrics: 4.1774 - val_loss: 0.8884 - val_main_output_loss: 0.0963 - val_main_output_acc: 0.9111 - val_conf_loss: 0.7589 - val_confidence_metrics: 4.4549\n",
            "Epoch 23/30\n",
            "105/105 [==============================] - 0s 929us/sample - loss: 0.9098 - main_output_loss: 0.1260 - main_output_acc: 0.9429 - conf_loss: 0.7658 - confidence_metrics: 4.3400 - val_loss: 0.8583 - val_main_output_loss: 0.0733 - val_main_output_acc: 0.9556 - val_conf_loss: 0.7844 - val_confidence_metrics: 4.4327\n",
            "Epoch 24/30\n",
            "105/105 [==============================] - 0s 754us/sample - loss: 0.9076 - main_output_loss: 0.1476 - main_output_acc: 0.9619 - conf_loss: 0.8003 - confidence_metrics: 4.2834 - val_loss: 0.8349 - val_main_output_loss: 0.0549 - val_main_output_acc: 0.9778 - val_conf_loss: 0.7669 - val_confidence_metrics: 4.4124\n",
            "Epoch 25/30\n",
            "105/105 [==============================] - 0s 799us/sample - loss: 0.8451 - main_output_loss: 0.0846 - main_output_acc: 0.9714 - conf_loss: 0.7469 - confidence_metrics: 4.3190 - val_loss: 0.7989 - val_main_output_loss: 0.0701 - val_main_output_acc: 0.9778 - val_conf_loss: 0.7224 - val_confidence_metrics: 4.4766\n",
            "Epoch 26/30\n",
            "105/105 [==============================] - 0s 759us/sample - loss: 0.8230 - main_output_loss: 0.0812 - main_output_acc: 0.9810 - conf_loss: 0.7374 - confidence_metrics: 4.3445 - val_loss: 0.8246 - val_main_output_loss: 0.0733 - val_main_output_acc: 0.9556 - val_conf_loss: 0.7476 - val_confidence_metrics: 4.4605\n",
            "Epoch 27/30\n",
            "105/105 [==============================] - 0s 725us/sample - loss: 0.8515 - main_output_loss: 0.0879 - main_output_acc: 0.9714 - conf_loss: 0.7519 - confidence_metrics: 4.3592 - val_loss: 0.7748 - val_main_output_loss: 0.0668 - val_main_output_acc: 1.0000 - val_conf_loss: 0.7153 - val_confidence_metrics: 4.6275\n",
            "Epoch 28/30\n",
            "105/105 [==============================] - 0s 867us/sample - loss: 0.7866 - main_output_loss: 0.0892 - main_output_acc: 0.9524 - conf_loss: 0.6992 - confidence_metrics: 4.5674 - val_loss: 0.7594 - val_main_output_loss: 0.0485 - val_main_output_acc: 1.0000 - val_conf_loss: 0.7014 - val_confidence_metrics: 4.7829\n",
            "Epoch 29/30\n",
            "105/105 [==============================] - 0s 779us/sample - loss: 0.7903 - main_output_loss: 0.0704 - main_output_acc: 0.9714 - conf_loss: 0.7071 - confidence_metrics: 4.6407 - val_loss: 0.8390 - val_main_output_loss: 0.1479 - val_main_output_acc: 0.9333 - val_conf_loss: 0.7234 - val_confidence_metrics: 4.8443\n",
            "Epoch 30/30\n",
            "105/105 [==============================] - 0s 767us/sample - loss: 0.8009 - main_output_loss: 0.1070 - main_output_acc: 0.9619 - conf_loss: 0.7074 - confidence_metrics: 4.7520 - val_loss: 0.7186 - val_main_output_loss: 0.0542 - val_main_output_acc: 0.9778 - val_conf_loss: 0.6507 - val_confidence_metrics: 5.1429\n"
          ]
        }
      ]
    },
    {
      "cell_type": "markdown",
      "source": [
        "\n",
        "The history variable in this code is a result of training a Keras model using the fit function.\n",
        "\n",
        "The fit function trains a model using input training data X_train and target training data y_train. The number of training epochs is specified as 30.The network is trained for 30 epochs, and its performance is evaluated on validation data [X_test, y_test] with target y_test.\n",
        "\n",
        "##Model evaluation\n",
        "\n",
        "The model is evaluated using validation data X_test and y_test after each epoch, and the results are stored in history.Mathematically, the model is trying to learn the relationship between the input training data X_train and target training data y_train. At each epoch, the model updates its weights based on the loss calculated between the predicted target y_pred and the actual target y_train. The loss is calculated using the categorical cross-entropy loss function, which measures the dissimilarity between the predicted probability distribution and the true distribution. The optimization algorithm used is Adam, which is a gradient-based optimization method that adapts the learning rate during training. The goal of the optimization is to minimize the loss function and ultimately improve the model's accuracy on the validation data.\n",
        "\n",
        "\n",
        "\n",
        "\n"
      ],
      "metadata": {
        "id": "0WT5vUnz6Vql"
      }
    },
    {
      "cell_type": "markdown",
      "source": [
        "## Graphs"
      ],
      "metadata": {
        "id": "m-gEZ-C_Xg3y"
      }
    },
    {
      "cell_type": "markdown",
      "source": [
        "##Plotting the loss for the main_output in training and validation"
      ],
      "metadata": {
        "id": "_ASFAB2SmGoC"
      }
    },
    {
      "cell_type": "code",
      "source": [
        "# Plot the loss for the main_output in training and validation\n",
        "plt.plot(history.history['main_output_loss'])\n",
        "plt.plot(history.history['val_main_output_loss'])\n",
        "plt.title('main_output Loss')\n",
        "plt.xlabel('Epoch')\n",
        "plt.ylabel('Loss')\n",
        "plt.legend(['training', 'validation'], loc='upper right')\n",
        "plt.show()"
      ],
      "metadata": {
        "colab": {
          "base_uri": "https://localhost:8080/",
          "height": 295
        },
        "id": "sKOOUB0wV6ma",
        "outputId": "571a804d-5876-4037-b88c-4af9821284b4"
      },
      "execution_count": null,
      "outputs": [
        {
          "output_type": "display_data",
          "data": {
            "text/plain": [
              "<Figure size 432x288 with 1 Axes>"
            ],
            "image/png": "[encoded data removed]"
          },
          "metadata": {
            "needs_background": "light"
          }
        }
      ]
    },
    {
      "cell_type": "markdown",
      "source": [
        "\n",
        "This code plots the history of main_output loss during training. The plot shows two curves, one for the main_output loss on the training set  and one for the main_output loss on the validation set.\n",
        "\n",
        "Overfitting occurs when the model performs well on the training data but poorly on unseen data, meaning the model has memorized the training data rather than learned from it. The lower validation loss  suggests that the model is generalizing well and can handle new data."
      ],
      "metadata": {
        "id": "nvHu66JX_8x7"
      }
    },
    {
      "cell_type": "markdown",
      "source": [
        "##Plotting the accuracy for the main_output"
      ],
      "metadata": {
        "id": "SQbilBEcmOS1"
      }
    },
    {
      "cell_type": "code",
      "source": [
        "# Plot the accuracy for the main_output\n",
        "plt.plot(history.history['main_output_acc'])\n",
        "plt.plot(history.history['val_main_output_acc'])\n",
        "plt.title('main_output Accuracy')\n",
        "plt.xlabel('Epoch')\n",
        "plt.ylabel('Loss')\n",
        "plt.legend(['training','validation'], loc='lower right')\n",
        "plt.show()"
      ],
      "metadata": {
        "colab": {
          "base_uri": "https://localhost:8080/",
          "height": 295
        },
        "id": "rJOO38b0WBKx",
        "outputId": "74b3f20a-aede-42a9-e453-28e48698b48c"
      },
      "execution_count": null,
      "outputs": [
        {
          "output_type": "display_data",
          "data": {
            "text/plain": [
              "<Figure size 432x288 with 1 Axes>"
            ],
            "image/png": "[encoded data removed]"
          },
          "metadata": {
            "needs_background": "light"
          }
        }
      ]
    },
    {
      "cell_type": "markdown",
      "source": [
        "\n",
        "There is a general expectation is that the accuracy on the validation set is similar to the accuracy on the training set, or slightly lower. If the accuracy on the validation set is significantly higher than the accuracy on the training set, this can indicate overfitting, where the model is too closely fit to the training data and is not generalizing well to new, unseen data.\n",
        "\n",
        "Conversely, if the accuracy on the validation set is significantly lower than the accuracy on the training set, this can indicate underfitting, where the model is not complex enough to capture the patterns in the data. Here in this case the accuracy of the validation set after training for a few epochs is slighly lower, slighly higher or similar to the training accuracy.\n",
        "\n",
        "\n",
        "\n",
        "\n"
      ],
      "metadata": {
        "id": "znWU2xpLA2_6"
      }
    },
    {
      "cell_type": "markdown",
      "source": [
        "##Plotting the Confidence loss in training"
      ],
      "metadata": {
        "id": "4GEiFsPcmUOx"
      }
    },
    {
      "cell_type": "code",
      "source": [
        "# Plot the Confidence loss in training\n",
        "plt.plot(history.history['conf_loss'])\n",
        "plt.plot(history.history['val_conf_loss'])\n",
        "plt.title('Confidence Loss')\n",
        "plt.xlabel('Epoch')\n",
        "plt.ylabel('Loss')\n",
        "plt.legend(['training','validation'], loc='upper right')\n",
        "plt.show()"
      ],
      "metadata": {
        "colab": {
          "base_uri": "https://localhost:8080/",
          "height": 295
        },
        "id": "-snYqE9jWF2_",
        "outputId": "07608b32-d330-4270-fcee-d25e5e2a9d59"
      },
      "execution_count": null,
      "outputs": [
        {
          "output_type": "display_data",
          "data": {
            "text/plain": [
              "<Figure size 432x288 with 1 Axes>"
            ],
            "image/png": "[encoded data removed]"
          },
          "metadata": {
            "needs_background": "light"
          }
        }
      ]
    },
    {
      "cell_type": "markdown",
      "source": [
        "\n",
        "1. Confidence loss is the negative log likelihood of the prediction and ground truth given the Dirichlet distribution, which is added to the layer's metric collection using the add_metric method with aggregation set to mean.\n",
        "2. The plot produced shows how the confidence loss changed during the training process for both training and validation sets.If the confidence loss is decreasing over the epochs, it indicates that the model is learning and improving its predictions on the target variable. This is usually a good sign, and suggests that the model is making progress in fitting to the data and making accurate predictions. It's common to see fluctuations in the training loss, but if the loss continues to decrease over time, it's likely that the model is learning from the training data and improving its predictions.\n",
        "\n",
        "3. If the validation loss also decreases over time, this suggests that the model is generalizing well and not overfitting to the training data. However, if the validation loss increases or fluctuates, this may indicate overfitting or that the model is not generalizing well to new, unseen data."
      ],
      "metadata": {
        "id": "cDQmjBJFCcGW"
      }
    },
    {
      "cell_type": "markdown",
      "source": [
        "##Plotting the Confidence values in training and validation"
      ],
      "metadata": {
        "id": "SbMphWoomZPi"
      }
    },
    {
      "cell_type": "code",
      "source": [
        "# Plot the Confidence in training and validation\n",
        "plt.plot(history.history['confidence_metrics'])\n",
        "plt.plot(history.history['val_confidence_metrics'])\n",
        "plt.title('Measure of confidences')\n",
        "plt.xlabel('Epoch')\n",
        "plt.ylabel('confidence value')\n",
        "plt.legend(['training','validation'], loc='lower right')\n",
        "plt.show()"
      ],
      "metadata": {
        "colab": {
          "base_uri": "https://localhost:8080/",
          "height": 295
        },
        "id": "jGxNi9R6WKJb",
        "outputId": "db584df1-b62b-4426-a2aa-cd11c37784ab"
      },
      "execution_count": null,
      "outputs": [
        {
          "output_type": "display_data",
          "data": {
            "text/plain": [
              "<Figure size 432x288 with 1 Axes>"
            ],
            "image/png": "[encoded data removed]"
          },
          "metadata": {
            "needs_background": "light"
          }
        }
      ]
    },
    {
      "cell_type": "markdown",
      "source": [
        "\n",
        "The confidence value is the mean of the reciprocal of the variance of the Dirichlet distribution.The confidence value could be used for other purposes such as evaluation or interpretation of the model's output.\n",
        "The confidence value is a measure of how confident the model is in its predictions.\n",
        "\n",
        "The confidence values for both training and validation sets are consistently rising over the course of the epochs, it suggests that the model is becoming more confident in its predictions. This may indicate that the model is learning from the training data and improving its ability to make accurate predictions\n",
        "\n"
      ],
      "metadata": {
        "id": "zFFlpxdgEMnQ"
      }
    },
    {
      "cell_type": "markdown",
      "source": [
        "####Model prediction"
      ],
      "metadata": {
        "id": "rAmZ5eMzmur-"
      }
    },
    {
      "cell_type": "code",
      "source": [
        "from keras.utils.np_utils import to_categorical\n",
        "#Step 9: Computing predictions\n",
        "y_pred, y_conf  = model.predict([X_train, y_train])\n",
        "#Step 10: Creating a pandas dataframe with inputs,true lables, predictions and confidence values\n",
        "df = pd.DataFrame(data=[list(a) for a in [X_train, np.argmax(y_train, axis = 1), np.argmax(y_pred, axis = 1), y_conf]]).T\n",
        "\n",
        "# Step 11: Printing the mean confidence value\n",
        "print(f\"Confidence training: {np.mean(df[3])}\")\n",
        "print(f\"Confidence HITS: {np.mean(np.mean(df[df[1]==df[2]][3]))}\")\n",
        "print(f\"Confidence MISSES: {np.mean(np.mean(df[df[1]!=df[2]][3]))}\")"
      ],
      "metadata": {
        "colab": {
          "base_uri": "https://localhost:8080/"
        },
        "id": "Ew1PnysqYD8p",
        "outputId": "2ef202ee-1e63-46f1-96fb-29d78e353d19"
      },
      "execution_count": null,
      "outputs": [
        {
          "output_type": "stream",
          "name": "stderr",
          "text": [
            "/usr/local/lib/python3.8/dist-packages/keras/engine/training_v1.py:2067: UserWarning: `Model.state_updates` will be removed in a future version. This property should not be used in TensorFlow 2.0, as `updates` are applied automatically.\n",
            "  updates=self.state_updates,\n"
          ]
        },
        {
          "output_type": "stream",
          "name": "stdout",
          "text": [
            "Confidence training: 4.986435081845238\n",
            "Confidence HITS: 5.12283356021149\n",
            "Confidence MISSES: 2.7358506520589194\n"
          ]
        }
      ]
    },
    {
      "cell_type": "markdown",
      "source": [
        "\n",
        "The confidence statistics on the training set is computed. It starts by computing the prediction \"y_pred\" and confidence \"y_conf\" on the training data \"X_train\" and true labels \"y_train\".\n",
        "\n",
        "Then, it creates a pandas dataframe \"df\" with the inputs, true labels, predictions, and confidence values.\n",
        "\n",
        "Finally, the code computes and prints the mean confidence value of the entire training set, mean confidence value of correctly classified samples, and mean confidence value of misclassified samples.\n",
        "print statements are displaying the mean confidence values of the model's predictions on the training set and validation set.\n",
        "\n",
        "The first print statement \"Confidence training 4.986435081845238\" shows the average confidence of the model's predictions on the training set.\n",
        "The next two print statements show the mean confidence values of the model's predictions where it was correct (HITS) and where it was incorrect (MISSES) on the training set. \"Confidence HITS: 5.12283356021149\" means the average confidence of the model's correct predictions on the training set.\n",
        "\n",
        "Confidence value is a measure of how certain the model is of its predictions, with higher values indicating higher confidence. It is observed that Confidence HITS has mean value than Confidence MISSES, which is the expected behavior.\n",
        "\n",
        "\n",
        "\n"
      ],
      "metadata": {
        "id": "kpQNXOWlGsOS"
      }
    },
    {
      "cell_type": "code",
      "source": [
        "# Step 12: Predicting on validation set\n",
        "_, y_conf_validation  = model.predict([X_test, y_test])\n",
        "print(f\"Confidence validation: {np.mean(y_conf_validation)}\")"
      ],
      "metadata": {
        "colab": {
          "base_uri": "https://localhost:8080/"
        },
        "id": "AmFNAh1gZeNZ",
        "outputId": "05f4fd03-1896-4812-a994-f0a2f9381112"
      },
      "execution_count": null,
      "outputs": [
        {
          "output_type": "stream",
          "name": "stdout",
          "text": [
            "Confidence validation: 5.142912864685059\n"
          ]
        }
      ]
    },
    {
      "cell_type": "markdown",
      "source": [
        "##Model validation\n",
        "The model.predict function is called with the validation data X_test and the ground truth y_test as inputs. The returned value _, y_conf_validation contains the prediction probabilities for each class and the confidence. There is a difference of 0.16 points in the confidence values of training and validation sets. The difference is so  low, so it may be concluded that the model is not prone to overfitting and is generalising well to the unseen data.\n"
      ],
      "metadata": {
        "id": "MTLEpMm0HWed"
      }
    },
    {
      "cell_type": "markdown",
      "source": [
        "##Conclusion\n",
        "The model consists of multiple hidden layers with ReLU activations, a main output layer with a softmax activation, a custom Dirichlet loss layer, and a confidence score calculated from the Dirichlet loss. The objective was to obtain confidence score of the models predictions which was computed from the variance of the Dirichlet distribution. The main output loss for the validation set was lower , so it means that the model is performing well on the unseen data and is generalising well. The main output accuracy for the training and validation set is following the expected behaviour, where the two accuracies have to be more or less similar while training through epochs. The confidence loss is decreasing over time, it means that the mean is learning and improving its predictions. The confidence score for both training and validation sets is rising after 10 epochs, so it means that the model is becoming more and more confident in improving its predictions. Also, it is observed that the mean confidence of predictions correctly idenfified by the model is higher than the mean confidence of predictions wrongly identified by the mode, which is the expected behaviour of the model. Also, the mean confidence values generated by training and validation sets are similar and only differ by 0.16 mean points. So, it means that the model is not overfitting."
      ],
      "metadata": {
        "id": "4A7Y5az8hyRx"
      }
    },
    {
      "cell_type": "markdown",
      "source": [
        "**References**\n",
        "\n",
        "https://keras.io/guides/functional_api/\n",
        "https://keras.io/api/layers/base_layer/#addmetric-method\n",
        "https://en.wikipedia.org/wiki/Dirichlet_distribution#Moments\n",
        "https://www.tensorflow.org/probability/api_docs/python/tfp/distributions/DirichletMultinomial#entropy\n",
        "https://www.tensorflow.org/probability/api_docs/python/tfp/distributions/Distribution#variance\n"
      ],
      "metadata": {
        "id": "ibAII9UEO61A"
      }
    }
  ]
}